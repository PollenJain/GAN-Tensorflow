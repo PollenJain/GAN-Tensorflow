{
 "cells": [
  {
   "cell_type": "code",
   "execution_count": 1,
   "metadata": {
    "collapsed": true
   },
   "outputs": [],
   "source": [
    "import os\n",
    "import cv2\n",
    "import numpy as np\n",
    "import tensorflow as tf\n"
   ]
  },
  {
   "cell_type": "code",
   "execution_count": 2,
   "metadata": {
    "collapsed": true
   },
   "outputs": [],
   "source": [
    "import tensorflow.contrib.slim as slim\n",
    "\n",
    "\n",
    "def generator(z):\n",
    "    \n",
    "    zP = slim.fully_connected(z,4*4*256,normalizer_fn=slim.batch_norm,\\\n",
    "        activation_fn=tf.nn.relu,scope='g_project',weights_initializer=initializer)\n",
    "    zCon = tf.reshape(zP,[-1,4,4,256])\n",
    "    \n",
    "    gen1 = slim.convolution2d_transpose(\\\n",
    "        zCon,num_outputs=64,kernel_size=[5,5],stride=[2,2],\\\n",
    "        padding=\"SAME\",normalizer_fn=slim.batch_norm,\\\n",
    "        activation_fn=tf.nn.relu,scope='g_conv1', weights_initializer=initializer)\n",
    "    \n",
    "    gen2 = slim.convolution2d_transpose(\\\n",
    "        gen1,num_outputs=32,kernel_size=[5,5],stride=[2,2],\\\n",
    "        padding=\"SAME\",normalizer_fn=slim.batch_norm,\\\n",
    "        activation_fn=tf.nn.relu,scope='g_conv2', weights_initializer=initializer)\n",
    "    \n",
    "    gen3 = slim.convolution2d_transpose(\\\n",
    "        gen2,num_outputs=16,kernel_size=[5,5],stride=[2,2],\\\n",
    "        padding=\"SAME\",normalizer_fn=slim.batch_norm,\\\n",
    "        activation_fn=tf.nn.relu,scope='g_conv3', weights_initializer=initializer)\n",
    "    \n",
    "    g_out = slim.convolution2d_transpose(\\\n",
    "        gen3,num_outputs=1,kernel_size=[32,32],padding=\"SAME\",\\\n",
    "        biases_initializer=None,activation_fn=tf.nn.tanh,\\\n",
    "        scope='g_out', weights_initializer=initializer)\n",
    "    \n",
    "    return g_out"
   ]
  },
  {
   "cell_type": "code",
   "execution_count": 3,
   "metadata": {
    "collapsed": true
   },
   "outputs": [],
   "source": [
    "def discriminator(bottom, reuse=False):\n",
    "    \n",
    "    dis1 = slim.convolution2d(bottom,16,[4,4],stride=[2,2],padding=\"SAME\",\\\n",
    "        biases_initializer=None,activation_fn=lrelu,\\\n",
    "        reuse=reuse,scope='d_conv1',weights_initializer=initializer)\n",
    "    \n",
    "    dis2 = slim.convolution2d(dis1,32,[4,4],stride=[2,2],padding=\"SAME\",\\\n",
    "        normalizer_fn=slim.batch_norm,activation_fn=lrelu,\\\n",
    "        reuse=reuse,scope='d_conv2', weights_initializer=initializer)\n",
    "    \n",
    "    dis3 = slim.convolution2d(dis2,64,[4,4],stride=[2,2],padding=\"SAME\",\\\n",
    "        normalizer_fn=slim.batch_norm,activation_fn=lrelu,\\\n",
    "        reuse=reuse,scope='d_conv3',weights_initializer=initializer)\n",
    "    \n",
    "    d_out = slim.fully_connected(slim.flatten(dis3),1,activation_fn=tf.nn.sigmoid,\\\n",
    "        reuse=reuse,scope='d_out', weights_initializer=initializer)\n",
    "    \n",
    "    return d_out"
   ]
  },
  {
   "cell_type": "code",
   "execution_count": 4,
   "metadata": {
    "collapsed": true
   },
   "outputs": [],
   "source": [
    "import scipy\n",
    "\n",
    "#This function performns a leaky relu activation, which is needed for the discriminator network.\n",
    "def lrelu(x, leak=0.2, name=\"lrelu\"):\n",
    "     with tf.variable_scope(name):\n",
    "         f1 = 0.5 * (1 + leak)\n",
    "         f2 = 0.5 * (1 - leak)\n",
    "         return f1 * x + f2 * abs(x)"
   ]
  },
  {
   "cell_type": "code",
   "execution_count": 5,
   "metadata": {
    "collapsed": false
   },
   "outputs": [],
   "source": [
    "\n",
    "\n",
    "tf.reset_default_graph()\n",
    "\n",
    "z_size = 100 #Size of z vector used for generator.\n",
    "\n",
    "#This initializaer is used to initialize all the weights of the network.\n",
    "initializer = tf.truncated_normal_initializer(stddev=0.02)\n",
    "\n",
    "#These two placeholders are used for input into the generator and discriminator, respectively.\n",
    "z_in = tf.placeholder(shape=[None,z_size],dtype=tf.float32) #Random vector\n",
    "real_in = tf.placeholder(shape=[None,32,32,1],dtype=tf.float32) #Real images\n",
    "\n",
    "Gz = generator(z_in) #Generates images from random z vectors\n",
    "Dx = discriminator(real_in) #Produces probabilities for real images\n",
    "Dg = discriminator(Gz,reuse=True) #Produces probabilities for generator images\n",
    "\n",
    "#These functions together define the optimization objective of the GAN.\n",
    "d_loss = -tf.reduce_mean(tf.log(Dx) + tf.log(1.-Dg)) #This optimizes the discriminator.\n",
    "g_loss = -tf.reduce_mean(tf.log(Dg)) #This optimizes the generator.\n",
    "\n",
    "tvars = tf.trainable_variables()\n",
    "\n",
    "#The below code is responsible for applying gradient descent to update the GAN.\n",
    "trainerD = tf.train.AdamOptimizer(learning_rate=0.0002,beta1=0.5)\n",
    "trainerG = tf.train.AdamOptimizer(learning_rate=0.0002,beta1=0.5)\n",
    "d_grads = trainerD.compute_gradients(d_loss,tvars[9:]) #Only update the weights for the discriminator network.\n",
    "g_grads = trainerG.compute_gradients(g_loss,tvars[0:9]) #Only update the weights for the generator network.\n",
    "\n",
    "update_D = trainerD.apply_gradients(d_grads)\n",
    "update_G = trainerG.apply_gradients(g_grads)"
   ]
  },
  {
   "cell_type": "code",
   "execution_count": 6,
   "metadata": {
    "collapsed": true
   },
   "outputs": [],
   "source": [
    "def save_images(images, size, image_path):\n",
    "    return imsave(inverse_transform(images), size, image_path)\n",
    "\n",
    "def imsave(images, size, path):\n",
    "    return scipy.misc.imsave(path, merge(images, size))\n",
    "\n",
    "def inverse_transform(images):\n",
    "    return (images+1.)/2.\n",
    "\n",
    "def merge(images, size):\n",
    "    h, w = images.shape[1], images.shape[2]\n",
    "    img = np.zeros((h * size[0], w * size[1]))\n",
    "\n",
    "    for idx, image in enumerate(images):\n",
    "        i = idx % size[1]\n",
    "        j = idx // size[1]\n",
    "        img[j*h:j*h+h, i*w:i*w+w] = image\n",
    "\n",
    "    return img"
   ]
  },
  {
   "cell_type": "code",
   "execution_count": 7,
   "metadata": {
    "collapsed": true
   },
   "outputs": [],
   "source": [
    "# i = 0\n",
    "# def saveBatch(images):\n",
    "#     for image_ in images:\n",
    "# #         print(np.squeeze(image_, axis=(2,)).shape)\n",
    "#         global i\n",
    "#         image = np.squeeze(image_, axis=(2,))\n",
    "#         if not os.path.exists('/home/paragjain/Desktop/GAN_Trial/generator_output_image'):\n",
    "#             os.makedirs('/home/paragjain/Desktop/GAN_Trial/generator_output_image')\n",
    "#         cv2.imwrite('/home/paragjain/Desktop/GAN_Trial/generator_output_image/output'+str(i)+'.jpeg', image)\n",
    "#         i = i+1\n",
    "        "
   ]
  },
  {
   "cell_type": "code",
   "execution_count": 8,
   "metadata": {
    "collapsed": false
   },
   "outputs": [
    {
     "name": "stdout",
     "output_type": "stream",
     "text": [
      "(1197, 784)\n"
     ]
    }
   ],
   "source": [
    "def generate_flattened_dataset():\n",
    "    dataset = np.arange(784).reshape((1,784))\n",
    "    # directory path where all the images for training are stored. These images are expected to be\n",
    "    # i) Grayscale\n",
    "    # ii) Each of size 28 x 28\n",
    "    \n",
    "    for imageName in os.listdir('/home/paragjain/Desktop/GAN_Trial/resize_code/ALL_RESIZED'):\n",
    "        image = cv2.imread('/home/paragjain/Desktop/GAN_Trial/resize_code/ALL_RESIZED/'+imageName, 0)\n",
    "        image_flattened = image.flatten()\n",
    "#         print(image_flattened.shape)\n",
    "        dataset = np.vstack((dataset, image_flattened))\n",
    "\n",
    "\n",
    "    dataset = np.delete(dataset, 0, axis=0)\n",
    "    print(dataset.shape)\n",
    "\n",
    "    return dataset\n",
    "\n",
    "dataset = generate_flattened_dataset()\n"
   ]
  },
  {
   "cell_type": "code",
   "execution_count": 9,
   "metadata": {
    "collapsed": false
   },
   "outputs": [
    {
     "name": "stdout",
     "output_type": "stream",
     "text": [
      "Gem Loss: 0.496868 Disc Loss: 1.40135\n",
      "(32, 32, 1)\n",
      "Gem Loss: 0.259155 Disc Loss: 1.78214\n",
      "(32, 32, 1)\n",
      "Gem Loss: 0.210909 Disc Loss: 2.11912\n",
      "(32, 32, 1)\n",
      "Gem Loss: 0.19958 Disc Loss: 2.19322\n",
      "(32, 32, 1)\n",
      "Gem Loss: 0.221899 Disc Loss: 2.20146\n",
      "(32, 32, 1)\n",
      "/home/paragjain/Desktop/GAN_Trial/model_directory/model-9.cptk\n",
      "Saved Model\n",
      "Gem Loss: 0.263144 Disc Loss: 2.09193\n",
      "(32, 32, 1)\n"
     ]
    }
   ],
   "source": [
    "\n",
    "\n",
    "# images = []\n",
    "# for root, subdirs, files in os.walk('/home/paragjain/Desktop/GAN Trial/all_resized'):\n",
    "#     if files:\n",
    "#         # print(files)\n",
    "#         images.extend([root+str('/')+image for image in files])\n",
    "\n",
    "# # print(len(images))\n",
    "\n",
    "# dataset = np.arange(784).reshape((1,784))\n",
    "# for imagePath in images:\n",
    "#     # print(imagePath)\n",
    "#     image = cv2.imread(imagePath,0)\n",
    "#     # imagePathArr = imagePath.split('/')\n",
    "#     # destPath = \"/\".join(imagePathArr[0:len(imagePathArr)-1])+\"_resized/\"+imagePathArr[len(imagePathArr)-1]\n",
    "#     # destPath2 = \"/\".join(imagePathArr[0:len(imagePathArr)-3])+\"/all_resized/\"+imagePathArr[len(imagePathArr)-1]\n",
    "#     # destPath = '/home/paragjain/Desktop/'+imagePathArr[len(imagePathArr)-1]\n",
    "#     # print(destPath2)\n",
    "#     # print()\n",
    "#     # image_resize = cv2.resize(image, (28,28), interpolation=cv2.INTER_CUBIC)\n",
    "#     image_resize_flatten = image.flatten()\n",
    "#     # print(image_resize_flatten.shape)\n",
    "#     dataset = np.vstack((dataset, image_resize_flatten))\n",
    "#     # cv2.imshow('image', image)\n",
    "#     # cv2.imwrite(destPath, image_resize)\n",
    "#     # cv2.imwrite(destPath2, image_resize)\n",
    "\n",
    "# # print(len(dataset))\n",
    "# dataset = np.delete(dataset, 0, axis=0)\n",
    "# print(dataset.shape)\n",
    "\n",
    "\n",
    "\n",
    "\n",
    "batch_size = 36 # Min : 36\n",
    "iterations = 11\n",
    "# z_size = 100\n",
    "start = 0\n",
    "\n",
    "init = tf.global_variables_initializer()\n",
    "saver = tf.train.Saver()\n",
    "\n",
    "sess = tf.Session()\n",
    "sess.run(init)\n",
    "count = 0\n",
    "for i in range(iterations):\n",
    "    count = count + 1\n",
    "    zs = np.random.uniform(-1.0, 1.0, size=[batch_size, z_size]).astype(np.float32)\n",
    "    xs = dataset[start:start+batch_size]\n",
    "    start = start+batch_size\n",
    "    # print(xs.shape, type(xs))\n",
    "    xs_reshaped = np.reshape(xs, (batch_size, 28, 28, 1))\n",
    "#     print(xs_reshaped.shape) # (36, 28, 28, 1)\n",
    "    xs_reshaped = ( xs_reshaped - 0.5 ) * 2.0\n",
    "    xs_reshaped = np.lib.pad(xs_reshaped, ( (0,0), (2,2), (2,2), (0,0) ) , 'constant', constant_values = (-1, -1))\n",
    "#     print(xs_reshaped.shape) # (36, 32, 32, 1)\n",
    "    _, dLoss = sess.run([update_D, d_loss], feed_dict = { z_in:zs, real_in: xs_reshaped })\n",
    "    _, gLoss = sess.run([update_G, g_loss], feed_dict = { z_in:zs  })\n",
    "    _, gLoss = sess.run([update_G, g_loss], feed_dict = { z_in:zs  })\n",
    "    \n",
    "    if i % 2 == 0:\n",
    "        print(\"Gem Loss: \" + str(gLoss) + \" Disc Loss: \" + str(dLoss))\n",
    "        z2 = np.random.uniform(-1.0, 1.0, size = [batch_size, z_size]).astype(np.float32)\n",
    "        newZ = sess.run(Gz, feed_dict = { z_in: z2} )\n",
    "        print(newZ[0].shape)\n",
    "        \n",
    "        for j in range(batch_size):\n",
    "            count = count + 1\n",
    "            image = newZ[j]\n",
    "            # path where you want to store the images individually generated by the Generator during the TRAINING PHASE.\n",
    "            # These are expected to make little or no sense at all semantically.\n",
    "            if not os.path.exists('/home/paragjain/Desktop/GAN_Trial/generator_output_image'):\n",
    "                os.makedirs('/home/paragjain/Desktop/GAN_Trial/generator_output_image')\n",
    "            cv2.imwrite('/home/paragjain/Desktop/GAN_Trial/generator_output_image/output'+str(count)+'.jpeg', image)\n",
    "        \n",
    "#             if count < 10:\n",
    "#                 cv2.imshow('count'+str(count), image)\n",
    "#                 cv2.waitKey(0)\n",
    "#                 cv2.destroyAllWindows()\n",
    "# #             cv2.imshow('image', image)\n",
    "#             cv2.waitKey(0)\n",
    "#             cv2.destroyAllWindows()\n",
    "#         print(newZ.shape) # (36, 32, 32, 1)\n",
    "        newZ_reshaped = np.reshape(newZ[0:36], [36,32,32])\n",
    "#         real_or_fake = [newZ[0]]\n",
    "#         real_or_fake_probablity = sess.run(Dx, feed_dict={real_in:real_or_fake})\n",
    "#         print(\"real_or_fake_probablity\" , real_or_fake_probablity)\n",
    "\n",
    "          # path where you want to store the batch of images generated by the Generator during the TRAINING PHASE.\n",
    "         # These are expected to make little or no sense at all semantically.\n",
    "           \n",
    "        save_images(newZ_reshaped, [6,6], '/home/paragjain/Desktop/GAN_Trial/sample_directory'+'/fig'+ str(i)+\".png\")\n",
    "#         cv2.imwrite('/home/paragjain/Desktop/GAN Trial/sample_directory')\n",
    "\n",
    "    if i % 9 == 0 and i!=0:\n",
    "        # path where you want to store the model so that you can retrieve it later.\n",
    "        if not os.path.exists('/home/paragjain/Desktop/GAN_Trial/model_directory'):\n",
    "            os.makedirs('/home/paragjain/Desktop/GAN_Trial/model_directory')\n",
    "        save_path =  '/home/paragjain/Desktop/GAN_Trial/model_directory' + '/model-' + str(i) + '.cptk'\n",
    "        print(save_path)\n",
    "        saver.save(sess, save_path)\n",
    "        print(\"Saved Model\")"
   ]
  },
  {
   "cell_type": "code",
   "execution_count": 23,
   "metadata": {
    "collapsed": false
   },
   "outputs": [
    {
     "name": "stdout",
     "output_type": "stream",
     "text": [
      "INFO:tensorflow:Restoring parameters from /home/paragjain/Desktop/GAN Trial/model_directory/model-9.cptk\n"
     ]
    }
   ],
   "source": [
    "sess = tf.Session()\n",
    "saver = tf.train.Saver()\n",
    "\n",
    "# Retrieving the saved model\n",
    "ckpt = tf.train.get_checkpoint_state('/home/paragjain/Desktop/GAN_Trial/model_directory')\n",
    "saver.restore(sess, ckpt.model_checkpoint_path)\n",
    "\n",
    "zs = np.random.uniform(-1.0, 1.0, size = [batch_size, z_size]).astype(np.float32)\n",
    "newZ = sess.run(Gz, feed_dict = { z_in: zs })\n",
    "                \n",
    "if not os.path.exists('/home/paragjain/Desktop/GAN_Trial/model_learnt_images'):\n",
    "             os.makedirs('/home/paragjain/Desktop/GAN_Trial/model_learnt_images')\n",
    "\n",
    "                \n",
    "newZ_reshaped = np.reshape(newZ[0:36], [36,32,32])\n",
    "\n",
    "# Path where you would want to store the Generated Image\n",
    "if not os.path.exists('/home/paragjain/Desktop/GAN_Trial/sample_learnt_images'):\n",
    "    os.makedirs('/home/paragjain/Desktop/GAN_Trial/sample_learnt_images')\n",
    "                \n",
    "save_images(newZ_reshaped, [6,6], '/home/paragjain/Desktop/GAN_Trial/sample_learnt_images'+'/final.jpg')"
   ]
  },
  {
   "cell_type": "code",
   "execution_count": null,
   "metadata": {
    "collapsed": true
   },
   "outputs": [],
   "source": []
  },
  {
   "cell_type": "code",
   "execution_count": null,
   "metadata": {
    "collapsed": true
   },
   "outputs": [],
   "source": []
  }
 ],
 "metadata": {
  "anaconda-cloud": {},
  "kernelspec": {
   "display_name": "Python [conda root]",
   "language": "python",
   "name": "conda-root-py"
  },
  "language_info": {
   "codemirror_mode": {
    "name": "ipython",
    "version": 3
   },
   "file_extension": ".py",
   "mimetype": "text/x-python",
   "name": "python",
   "nbconvert_exporter": "python",
   "pygments_lexer": "ipython3",
   "version": "3.5.2"
  }
 },
 "nbformat": 4,
 "nbformat_minor": 1
}
